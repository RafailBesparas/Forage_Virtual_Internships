{
 "cells": [
  {
   "cell_type": "code",
   "execution_count": 1,
   "id": "742c114b",
   "metadata": {},
   "outputs": [],
   "source": [
    "import numpy as np\n",
    "from scipy.stats import norm"
   ]
  },
  {
   "cell_type": "code",
   "execution_count": 2,
   "id": "5ec080fc",
   "metadata": {},
   "outputs": [],
   "source": [
    "S = 1.20         # Spot price (USD per pound)\n",
    "r = 0.02         # Risk-free interest rate (2%)\n",
    "d = 0.01         # Storage cost (1%)\n",
    "y = 0.00         # Convenience yield (assumed 0)\n",
    "T = 0.5          # Time to maturity (6 months = 0.5 years)\n",
    "X = 1.25         # Strike price\n",
    "sigma = 0.25     # Volatility (25%)"
   ]
  },
  {
   "cell_type": "markdown",
   "id": "b62cb394",
   "metadata": {},
   "source": [
    "# Implement Cost Of Carry Model\n",
    "- The Cost of Carry Model is used to calculate the fair price of a futures contract.\n",
    "- It accounts for the spot price, interest rates, storage costs and convenience yield.\n",
    "- This helps traders identify mispricing and arbitrage opportunities in commodity markets."
   ]
  },
  {
   "cell_type": "code",
   "execution_count": 4,
   "id": "9aba2dcc",
   "metadata": {},
   "outputs": [
    {
     "data": {
      "text/plain": [
       "np.float64(1.22)"
      ]
     },
     "execution_count": 4,
     "metadata": {},
     "output_type": "execute_result"
    }
   ],
   "source": [
    "# Futures price formula: F = S * exp((r + d - y) * T)\n",
    "F = S * np.exp((r + d - y) * T)\n",
    "F.round(2)"
   ]
  },
  {
   "cell_type": "markdown",
   "id": "9898311c",
   "metadata": {},
   "source": [
    "- It means the fair price the client should pay for the futures contract is 1.22 (USD).\n",
    "- This price includes the current value of the product, plus costs like storage and interest, minus any benefits of holding it now."
   ]
  },
  {
   "cell_type": "markdown",
   "id": "3a1b5bab",
   "metadata": {},
   "source": [
    "# Black-Scholes Model for Futures Option"
   ]
  },
  {
   "cell_type": "code",
   "execution_count": 6,
   "id": "c51579a9",
   "metadata": {},
   "outputs": [
    {
     "data": {
      "text/plain": [
       "np.float64(-0.23)"
      ]
     },
     "execution_count": 6,
     "metadata": {},
     "output_type": "execute_result"
    }
   ],
   "source": [
    "d1 = (np.log(F / X) + 0.5 * sigma**2 * T) / (sigma * np.sqrt(T))\n",
    "d2 = d1 - sigma * np.sqrt(T)\n",
    "d2.round(2)"
   ]
  },
  {
   "cell_type": "markdown",
   "id": "508e3394",
   "metadata": {},
   "source": [
    "- The value -0.23 means the option is less likely to make a profit at expiration.\n",
    "- It suggests the futures price is expected to stay below the strike price.\n",
    "- So, the option is probably not worth much right now."
   ]
  },
  {
   "cell_type": "markdown",
   "id": "2dd36a00",
   "metadata": {},
   "source": [
    "# European call option price on futures"
   ]
  },
  {
   "cell_type": "code",
   "execution_count": 7,
   "id": "34452521",
   "metadata": {},
   "outputs": [
    {
     "data": {
      "text/plain": [
       "np.float64(0.07)"
      ]
     },
     "execution_count": 7,
     "metadata": {},
     "output_type": "execute_result"
    }
   ],
   "source": [
    "call_price_bs = np.exp(-r * T) * (F * norm.cdf(d1) - X * norm.cdf(d2))\n",
    "call_price_bs.round(2)"
   ]
  },
  {
   "cell_type": "markdown",
   "id": "fa80e72c",
   "metadata": {},
   "source": [
    "- The fair value of the European call option is $0.07.\n",
    "- This means you'd pay 7 cents per unit of the futures contract to buy the option today."
   ]
  },
  {
   "cell_type": "markdown",
   "id": "fe31bad7",
   "metadata": {},
   "source": [
    "# Monte Carlo Simulation"
   ]
  },
  {
   "cell_type": "code",
   "execution_count": 9,
   "id": "42bc8cfe",
   "metadata": {},
   "outputs": [],
   "source": [
    "np.random.seed(42)\n",
    "num_simulations = 100000\n",
    "\n",
    "# Simulate futures prices at maturity using GBM\n",
    "Z = np.random.standard_normal(num_simulations)\n",
    "ST = F * np.exp(-0.5 * sigma**2 * T + sigma * np.sqrt(T) * Z)\n",
    "\n",
    "# Calculate payoffs for call option\n",
    "payoffs = np.maximum(ST - X, 0)\n",
    "\n",
    "# Discounted average payoff\n",
    "call_price_mc = np.exp(-r * T) * np.mean(payoffs)"
   ]
  },
  {
   "cell_type": "markdown",
   "id": "66220985",
   "metadata": {},
   "source": [
    "# Display Results"
   ]
  },
  {
   "cell_type": "code",
   "execution_count": 10,
   "id": "2a4363cf",
   "metadata": {},
   "outputs": [
    {
     "name": "stdout",
     "output_type": "stream",
     "text": [
      "Futures Price (Cost of Carry): 1.2181\n",
      "Call Option Price (Black-Scholes): 0.0712\n",
      "Call Option Price (Monte Carlo Simulation): 0.0714\n"
     ]
    }
   ],
   "source": [
    "print(\"Futures Price (Cost of Carry):\", round(F, 4))\n",
    "print(\"Call Option Price (Black-Scholes):\", round(call_price_bs, 4))\n",
    "print(\"Call Option Price (Monte Carlo Simulation):\", round(call_price_mc, 4))"
   ]
  },
  {
   "cell_type": "markdown",
   "id": "e5732a26",
   "metadata": {},
   "source": [
    "- $1.2181 → Fair futures price for coffee in 6 months.\n",
    "- $0.0712 / $0.0714 → Fair price to buy a 6-month option to purchase coffee at $1.25."
   ]
  },
  {
   "cell_type": "markdown",
   "id": "9956eaef",
   "metadata": {},
   "source": [
    "## Pipeline Used ChatGtp to combine into something more intepretable"
   ]
  },
  {
   "cell_type": "code",
   "execution_count": 11,
   "id": "835ce09c",
   "metadata": {},
   "outputs": [],
   "source": [
    "import numpy as np\n",
    "from scipy.stats import norm\n",
    "\n",
    "def black_scholes_futures_call(S, r, d, y, T, X, sigma):\n",
    "    # Step 1: Calculate the fair futures price using Cost of Carry model\n",
    "    F = S * np.exp((r + d - y) * T)\n",
    "    \n",
    "    # Step 2: Compute d1 and d2\n",
    "    d1 = (np.log(F / X) + 0.5 * sigma**2 * T) / (sigma * np.sqrt(T))\n",
    "    d2 = d1 - sigma * np.sqrt(T)\n",
    "    \n",
    "    # Step 3: Calculate call option price\n",
    "    call_price_bs = np.exp(-r * T) * (F * norm.cdf(d1) - X * norm.cdf(d2))\n",
    "    \n",
    "    # Step 4: Interpret results in simpler words\n",
    "    interpretation = \"\"\n",
    "    if d2 < 0:\n",
    "        interpretation = (\n",
    "            f\"The option is less likely to end in profit since d2 = {d2:.2f} is negative. \"\n",
    "            f\"This means the futures price is expected to stay below the strike price (${X}). \"\n",
    "            \"So the option is relatively cheap and may not be exercised.\"\n",
    "        )\n",
    "    else:\n",
    "        interpretation = (\n",
    "            f\"The option has a higher chance of profit since d2 = {d2:.2f} is positive. \"\n",
    "            f\"This means the futures price is expected to be above the strike price (${X}) at expiration. \"\n",
    "            \"So the option is more valuable and likely to be exercised.\"\n",
    "        )\n",
    "    \n",
    "    return {\n",
    "        \"Futures Price (F)\": round(F, 4),\n",
    "        \"d1\": round(d1, 4),\n",
    "        \"d2\": round(d2, 4),\n",
    "        \"Call Option Price\": round(call_price_bs, 4),\n",
    "        \"Interpretation\": interpretation\n",
    "    }\n"
   ]
  },
  {
   "cell_type": "markdown",
   "id": "b36fb17e",
   "metadata": {},
   "source": [
    "# Scenario 1"
   ]
  },
  {
   "cell_type": "code",
   "execution_count": 12,
   "id": "49e8089c",
   "metadata": {},
   "outputs": [
    {
     "name": "stdout",
     "output_type": "stream",
     "text": [
      "Futures Price (F): 1.1732\n",
      "d1: -0.0392\n",
      "d2: -0.216\n",
      "Call Option Price: 0.0698\n",
      "Interpretation: The option is less likely to end in profit since d2 = -0.22 is negative. This means the futures price is expected to stay below the strike price ($1.2). So the option is relatively cheap and may not be exercised.\n"
     ]
    }
   ],
   "source": [
    "result = black_scholes_futures_call(\n",
    "    S=1.15,    # Spot price\n",
    "    r=0.03,    # Risk-free rate\n",
    "    d=0.01,    # Storage cost\n",
    "    y=0,       # Convenience yield\n",
    "    T=0.5,     # Time to maturity in years\n",
    "    X=1.20,    # Strike price\n",
    "    sigma=0.25 # Volatility\n",
    ")\n",
    "\n",
    "for k, v in result.items():\n",
    "    print(f\"{k}: {v}\")"
   ]
  }
 ],
 "metadata": {
  "kernelspec": {
   "display_name": "venv",
   "language": "python",
   "name": "python3"
  },
  "language_info": {
   "codemirror_mode": {
    "name": "ipython",
    "version": 3
   },
   "file_extension": ".py",
   "mimetype": "text/x-python",
   "name": "python",
   "nbconvert_exporter": "python",
   "pygments_lexer": "ipython3",
   "version": "3.12.8"
  }
 },
 "nbformat": 4,
 "nbformat_minor": 5
}
